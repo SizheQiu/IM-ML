{
 "cells": [
  {
   "cell_type": "code",
   "execution_count": 1,
   "metadata": {},
   "outputs": [
    {
     "name": "stderr",
     "output_type": "stream",
     "text": [
      "The name visualization is deprecated. Please use plotting\n"
     ]
    }
   ],
   "source": [
    "import sys\n",
    "from pathlib import Path\n",
    "sys.path.append('../bitome-kb/')\n",
    "from bitome.core import Bitome\n",
    "import pandas as pd\n",
    "import numpy as np\n",
    "import seaborn as sns\n",
    "import matplotlib.pyplot as plt\n",
    "from math import log,exp,inf\n",
    "bitome = Bitome.init_from_file('../bitome-kb/bitome.pkl')\n",
    "from feature_functions import *\n",
    "from pymodulon.io import load_json_model\n",
    "from pymodulon.visualization import *"
   ]
  },
  {
   "cell_type": "markdown",
   "metadata": {},
   "source": [
    "## Generate PSSMs for -10/-35 boxes for Sigma70/32/38/24/28/54"
   ]
  },
  {
   "cell_type": "code",
   "execution_count": 10,
   "metadata": {},
   "outputs": [],
   "source": [
    "prib_sig = {'Sigma70':[],'Sigma32':[],'Sigma38':[],'Sigma24':[],'Sigma28':[],'Sigma54':[]}\n",
    "m35_sig = {'Sigma70':[],'Sigma32':[],'Sigma38':[],'Sigma24':[],'Sigma28':[],'Sigma54':[]}\n",
    "for p in bitome.promoters:\n",
    "    for k in prib_sig.keys():\n",
    "        if p.sigma_factors == [k]:\n",
    "            if p.box_10_location != None:\n",
    "                prib_sig[k].append(p)\n",
    "            if p.box_35_location != None:\n",
    "                m35_sig[k].append(p)\n",
    "                \n",
    "M_prib = {'Sigma70':[],'Sigma32':[],'Sigma38':[],'Sigma24':[],'Sigma28':[],'Sigma54':[]}\n",
    "M_m35 = {'Sigma70':[],'Sigma32':[],'Sigma38':[],'Sigma24':[],'Sigma28':[],'Sigma54':[]}\n",
    "for k in M_prib.keys():\n",
    "    if k == 'Sigma70':\n",
    "        M_prib[k] = [{'A': 0, 'C':0, 'G':0, 'T':0} for i in range(6)]\n",
    "        M_m35[k] = [{'A': 0, 'C':0, 'G':0, 'T':0} for i in range(6)]\n",
    "    elif k == 'Sigma32':\n",
    "        M_prib[k] = [{'A': 0, 'C':0, 'G':0, 'T':0} for i in range(6)]\n",
    "        M_m35[k] = [{'A': 0, 'C':0, 'G':0, 'T':0} for i in range(7)]\n",
    "    elif k == 'Sigma38':\n",
    "        M_prib[k] = [{'A': 0, 'C':0, 'G':0, 'T':0} for i in range(11)]\n",
    "        M_m35[k] = [{'A': 0, 'C':0, 'G':0, 'T':0} for i in range(6)]\n",
    "    elif k == 'Sigma24':\n",
    "        M_prib[k] = [{'A': 0, 'C':0, 'G':0, 'T':0} for i in range(7)]\n",
    "        M_m35[k] = [{'A': 0, 'C':0, 'G':0, 'T':0} for i in range(7)]\n",
    "    elif k == 'Sigma28':\n",
    "        M_prib[k] = [{'A': 0, 'C':0, 'G':0, 'T':0} for i in range(8)]\n",
    "        M_m35[k] = [{'A': 0, 'C':0, 'G':0, 'T':0} for i in range(6)]\n",
    "    elif k == 'Sigma54':\n",
    "        M_prib[k] = [{'A': 0, 'C':0, 'G':0, 'T':0} for i in range(5)]\n",
    "        M_m35[k] = [{'A': 0, 'C':0, 'G':0, 'T':0} for i in range(6)]\n",
    "\n",
    "for k in M_prib.keys():\n",
    "    for p in prib_sig[k]:\n",
    "        if int(p.box_10_location.strand) == -1:\n",
    "            s = complement(revstrand( str(bitome.sequence)[ int(p.box_10_location.start):int(p.box_10_location.end)] ))\n",
    "        else:\n",
    "            s = str(bitome.sequence)[ int(p.box_10_location.start):int(p.box_10_location.end)]\n",
    "           \n",
    "        if len(s) != len(M_prib[k]):\n",
    "            continue\n",
    "            \n",
    "        for i in range(len(s)):\n",
    "            M_prib[k][i][s[i]] = M_prib[k][i][s[i]] + 1\n",
    "        \n",
    "        if int(p.box_35_location.strand) == -1:\n",
    "            s2 = complement(revstrand( str(bitome.sequence)[ int(p.box_35_location.start):int(p.box_35_location.end)] ))\n",
    "        else:\n",
    "            s2 = str(bitome.sequence)[ int(p.box_35_location.start):int(p.box_35_location.end)]\n",
    "            \n",
    "        if len(s2) != len(M_m35[k]):\n",
    "            continue\n",
    "            \n",
    "        for i in range(len(s2)):\n",
    "            M_m35[k][i][s2[i]] = M_m35[k][i][s2[i]] + 1          \n",
    "            \n",
    "for k in M_prib.keys():\n",
    "    for i in range(len(M_prib[k])):\n",
    "        SUM = M_prib[k][i]['A']+M_prib[k][i]['C']+M_prib[k][i]['G']+M_prib[k][i]['T']+4 # avoid log(0)\n",
    "        for nu in ['A','C','G','T']:\n",
    "            M_prib[k][i][nu] = log( (M_prib[k][i][nu]+1)/ SUM )\n",
    "                    \n",
    "for k in M_m35.keys():\n",
    "    for i in range(len(M_m35[k])):\n",
    "        SUM = M_m35[k][i]['A']+M_m35[k][i]['C']+M_m35[k][i]['G']+M_m35[k][i]['T'] + 4\n",
    "        for nu in ['A','C','G','T']:\n",
    "            M_m35[k][i][nu] = log( (M_m35[k][i][nu]+1)/ SUM )\n",
    "            \n",
    "M_prib['Sigma38'] = M_prib['Sigma38'][4:11]\n",
    "m10_seq = { 'Sigma70':'TATAAT','Sigma38':'CTATACT','Sigma32':'CCCCAT','Sigma24':'TGTCAAA','Sigma28':'GCCGATAA','Sigma54':'TGCAT'}\n",
    "m35_seq = { 'Sigma70':'TTGACA','Sigma38':'TTGACA','Sigma32':'CTTGAAA','Sigma24':'TGAACTT','Sigma28':'CTAAAG','Sigma54':'TGGCAC'}"
   ]
  },
  {
   "cell_type": "markdown",
   "metadata": {},
   "source": [
    "# Save Sigma Factor PSSMs"
   ]
  },
  {
   "cell_type": "code",
   "execution_count": 11,
   "metadata": {},
   "outputs": [],
   "source": [
    "sigma_pssm = {}\n",
    "sigma_pssm['M_prib'] = M_prib\n",
    "sigma_pssm['M_m35'] = M_m35\n",
    "sigma_pssm['m10_seq'] = m10_seq\n",
    "sigma_pssm['m35_seq'] = m35_seq\n",
    "# save sigma factor PSSM\n",
    "import pickle \n",
    "file = open(\"../data/sigma_pssm_ecoli.txt\", \"wb\")\n",
    "pickle.dump( sigma_pssm , file) \n",
    "file.close()"
   ]
  },
  {
   "cell_type": "markdown",
   "metadata": {},
   "source": [
    "# Load Sigma Factor PSSMs"
   ]
  },
  {
   "cell_type": "code",
   "execution_count": 13,
   "metadata": {},
   "outputs": [],
   "source": [
    "# reading the data from the file \n",
    "with open('../data/sigma_pssm_ecoli.txt', 'rb') as handle: \n",
    "    data = handle.read()  \n",
    "# reconstructing the data as dictionary \n",
    "d = pickle.loads(data)\n",
    "M_prib = d['M_prib']\n",
    "M_m35 = d['M_m35']\n",
    "m10_seq = d['m10_seq']\n",
    "m35_seq = d['m35_seq']"
   ]
  },
  {
   "cell_type": "markdown",
   "metadata": {},
   "source": [
    "# Compute Sigma Factor related features and LDA transformation"
   ]
  },
  {
   "cell_type": "code",
   "execution_count": 14,
   "metadata": {},
   "outputs": [
    {
     "data": {
      "text/html": [
       "<div>\n",
       "<style scoped>\n",
       "    .dataframe tbody tr th:only-of-type {\n",
       "        vertical-align: middle;\n",
       "    }\n",
       "\n",
       "    .dataframe tbody tr th {\n",
       "        vertical-align: top;\n",
       "    }\n",
       "\n",
       "    .dataframe thead th {\n",
       "        text-align: right;\n",
       "    }\n",
       "</style>\n",
       "<table border=\"1\" class=\"dataframe\">\n",
       "  <thead>\n",
       "    <tr style=\"text-align: right;\">\n",
       "      <th></th>\n",
       "      <th>ID</th>\n",
       "      <th>gene</th>\n",
       "      <th>TU</th>\n",
       "      <th>Sigma70</th>\n",
       "      <th>Sigma32</th>\n",
       "      <th>Sigma38</th>\n",
       "      <th>Sigma24</th>\n",
       "      <th>Sigma28</th>\n",
       "      <th>Sigma54</th>\n",
       "      <th>Sigma19</th>\n",
       "      <th>unknown</th>\n",
       "    </tr>\n",
       "  </thead>\n",
       "  <tbody>\n",
       "    <tr>\n",
       "      <th>0</th>\n",
       "      <td>b0001</td>\n",
       "      <td>thrL</td>\n",
       "      <td>thrLABC</td>\n",
       "      <td>1</td>\n",
       "      <td>0</td>\n",
       "      <td>0</td>\n",
       "      <td>0</td>\n",
       "      <td>0</td>\n",
       "      <td>0</td>\n",
       "      <td>0</td>\n",
       "      <td>0</td>\n",
       "    </tr>\n",
       "    <tr>\n",
       "      <th>1</th>\n",
       "      <td>b0001</td>\n",
       "      <td>thrL</td>\n",
       "      <td>thrL</td>\n",
       "      <td>1</td>\n",
       "      <td>0</td>\n",
       "      <td>0</td>\n",
       "      <td>0</td>\n",
       "      <td>0</td>\n",
       "      <td>0</td>\n",
       "      <td>0</td>\n",
       "      <td>0</td>\n",
       "    </tr>\n",
       "    <tr>\n",
       "      <th>2</th>\n",
       "      <td>b0002</td>\n",
       "      <td>thrA</td>\n",
       "      <td>thrLABC</td>\n",
       "      <td>1</td>\n",
       "      <td>0</td>\n",
       "      <td>0</td>\n",
       "      <td>0</td>\n",
       "      <td>0</td>\n",
       "      <td>0</td>\n",
       "      <td>0</td>\n",
       "      <td>0</td>\n",
       "    </tr>\n",
       "    <tr>\n",
       "      <th>3</th>\n",
       "      <td>b0003</td>\n",
       "      <td>thrB</td>\n",
       "      <td>thrLABC</td>\n",
       "      <td>1</td>\n",
       "      <td>0</td>\n",
       "      <td>0</td>\n",
       "      <td>0</td>\n",
       "      <td>0</td>\n",
       "      <td>0</td>\n",
       "      <td>0</td>\n",
       "      <td>0</td>\n",
       "    </tr>\n",
       "    <tr>\n",
       "      <th>4</th>\n",
       "      <td>b0004</td>\n",
       "      <td>thrC</td>\n",
       "      <td>thrLABC</td>\n",
       "      <td>1</td>\n",
       "      <td>0</td>\n",
       "      <td>0</td>\n",
       "      <td>0</td>\n",
       "      <td>0</td>\n",
       "      <td>0</td>\n",
       "      <td>0</td>\n",
       "      <td>0</td>\n",
       "    </tr>\n",
       "  </tbody>\n",
       "</table>\n",
       "</div>"
      ],
      "text/plain": [
       "      ID  gene       TU  Sigma70  Sigma32  Sigma38  Sigma24  Sigma28  Sigma54  \\\n",
       "0  b0001  thrL  thrLABC        1        0        0        0        0        0   \n",
       "1  b0001  thrL     thrL        1        0        0        0        0        0   \n",
       "2  b0002  thrA  thrLABC        1        0        0        0        0        0   \n",
       "3  b0003  thrB  thrLABC        1        0        0        0        0        0   \n",
       "4  b0004  thrC  thrLABC        1        0        0        0        0        0   \n",
       "\n",
       "   Sigma19  unknown  \n",
       "0        0        0  \n",
       "1        0        0  \n",
       "2        0        0  \n",
       "3        0        0  \n",
       "4        0        0  "
      ]
     },
     "execution_count": 14,
     "metadata": {},
     "output_type": "execute_result"
    }
   ],
   "source": [
    "sigmas = []\n",
    "for g in bitome.genes:\n",
    "    if len(g.transcription_units) < 1:\n",
    "        continue\n",
    "    \n",
    "    for tu in g.transcription_units:\n",
    "        if tu.tss == None:\n",
    "            continue\n",
    "            \n",
    "        data={}   \n",
    "        data['ID'] = g.locus_tag\n",
    "        data['gene'] = g.name\n",
    "        data['TU'] = tu.name  \n",
    "        data.update( {'Sigma70':0,'Sigma32':0,'Sigma38':0,'Sigma24':0,'Sigma28':0,\n",
    "                      'Sigma54':0, 'Sigma19':0,'unknown':0} )\n",
    "        \n",
    "        if tu.promoter.sigma_factors == ['unknown'] or tu.promoter.sigma_factors == []:\n",
    "            data['unknown'] = 1\n",
    "        else:\n",
    "            for sig in tu.promoter.sigma_factors:\n",
    "                data[sig] = 1\n",
    "            \n",
    "        sigmas.append(data)\n",
    "        \n",
    "sigmas_table = pd.DataFrame(sigmas)\n",
    "sigmas_table.head()"
   ]
  },
  {
   "cell_type": "code",
   "execution_count": 15,
   "metadata": {},
   "outputs": [],
   "source": [
    "sigma_feature = []\n",
    "for g in bitome.genes:\n",
    "    if len(g.transcription_units) < 1:\n",
    "        continue\n",
    "    \n",
    "    for tu in g.transcription_units:\n",
    "        if tu.tss == None:\n",
    "            continue\n",
    "            \n",
    "        data = {}\n",
    "        data['ID'] = g.locus_tag\n",
    "        data['gene'] = g.name\n",
    "        data['TU'] = tu.name\n",
    "        data['strand'] = int(tu.location.strand)\n",
    "        data['TU_length'] = len(tu.sequence)\n",
    "        \n",
    "        # replication strand\n",
    "        data['leading'] = 0\n",
    "        data['lagging'] = 0\n",
    "        data['terminus'] = 0\n",
    "        data[ str(g.replication_strand) ] = 1\n",
    "        \n",
    "        #sigmulon features ( sigma 38 excluded )\n",
    "        for signame in m10_seq.keys():\n",
    "            result = bitome.score_pribnow_m35( tu, signame, M_prib, M_m35,m10_seq,m35_seq)\n",
    "            result.pop(signame+'_Matched_Prib')\n",
    "            result.pop(signame+'_Matched_m35')\n",
    "            data.update( result )\n",
    "            \n",
    "        sigma_feature.append(data)\n",
    "        \n",
    "sigma_pd = pd.DataFrame(sigma_feature)"
   ]
  },
  {
   "cell_type": "code",
   "execution_count": 16,
   "metadata": {},
   "outputs": [],
   "source": [
    "X = {}\n",
    "labels = {}\n",
    "w = {}\n",
    "for signame in m10_seq.keys():\n",
    "    temp = sigma_pd[[signame + '_Prib_Start', signame + '_Prib_score',\n",
    "       signame + '_Prib_hmd', signame + '_Prib_Tm', signame + '_m35_Start',\n",
    "       signame + '_m35_score', signame +'_m35_hmd', signame +'_Spacer_Length',\n",
    "       signame +'_Spacer_AT_ratio', signame + '_hepta_ratio']]\n",
    "    X[signame] = temp.iloc[:,:].values\n",
    "    labels[signame] = np.array(sigmas_table[signame])\n",
    "    w[signame] = ld( X[signame], labels[signame])"
   ]
  },
  {
   "cell_type": "code",
   "execution_count": 17,
   "metadata": {},
   "outputs": [],
   "source": [
    "X_ld = {}\n",
    "for signame in m10_seq.keys():\n",
    "    X_ld_temp = []\n",
    "    X_temp = X[signame]\n",
    "    labels_temp = labels[signame]\n",
    "    w_temp = w[signame]\n",
    "    \n",
    "    for v in X_temp:\n",
    "        X_ld_temp.append(  np.matmul( w_temp , v)  )\n",
    "    X_ld[signame] = X_ld_temp"
   ]
  },
  {
   "cell_type": "code",
   "execution_count": 18,
   "metadata": {},
   "outputs": [
    {
     "data": {
      "image/png": "[encoded data removed]",
      "text/plain": [
       "<Figure size 1440x360 with 6 Axes>"
      ]
     },
     "metadata": {
      "needs_background": "light"
     },
     "output_type": "display_data"
    }
   ],
   "source": [
    "fig, axs = plt.subplots(1,6,figsize= (20,5))\n",
    "sig_list = list(m10_seq.keys())\n",
    "for i in range(6):\n",
    "    signame = sig_list[i]\n",
    "    sns.boxplot( labels[signame],X_ld[signame], ax = axs[i])\n",
    "    axs[i].set_title('LDA_'+signame)\n",
    "    axs[i].set_xlabel('n='+ str(sum(labels[signame])) )"
   ]
  },
  {
   "cell_type": "code",
   "execution_count": 20,
   "metadata": {},
   "outputs": [
    {
     "name": "stdout",
     "output_type": "stream",
     "text": [
      "Projection planes:\n",
      "{'Sigma70': array([ 1.65064382e-02, -6.59506008e-02,  3.02672899e-01, -5.24886433e-02,\n",
      "        1.71139291e-02, -5.81206469e-02,  1.50473443e-01, -6.07490918e-04,\n",
      "       -6.33659058e-01,  1.83387202e-01]), 'Sigma38': array([-0.01371682, -0.20837012, -0.01447272, -0.08668739, -0.01633375,\n",
      "        0.06734916, -0.07138144,  0.00261692, -0.543808  ,  0.58861234]), 'Sigma32': array([ 0.04611459, -0.27112878,  0.78284334, -0.03343359,  0.03332323,\n",
      "       -0.13342375,  0.0499618 ,  0.01279136,  0.89601573, -1.3806742 ]), 'Sigma24': array([ 0.00797833, -0.11419877,  0.09339727, -0.06414143,  0.03343402,\n",
      "       -0.16363185,  0.25952174, -0.02545569, -0.45804491,  0.98356359]), 'Sigma28': array([-0.03337679, -0.44776207,  0.83001936, -0.14254413,  0.0937775 ,\n",
      "        0.02082157,  0.9029926 , -0.12715429, -5.67666246,  2.79836743]), 'Sigma54': array([ 0.00849921, -0.29833907,  0.19381744, -0.14867898, -0.1209861 ,\n",
      "       -0.55674056,  0.08177916,  0.1294853 ,  2.10054191, -1.99187276])}\n"
     ]
    }
   ],
   "source": [
    "print(\"Projection planes:\")\n",
    "print(w)"
   ]
  }
 ],
 "metadata": {
  "kernelspec": {
   "display_name": "Python 3",
   "language": "python",
   "name": "python3"
  },
  "language_info": {
   "codemirror_mode": {
    "name": "ipython",
    "version": 3
   },
   "file_extension": ".py",
   "mimetype": "text/x-python",
   "name": "python",
   "nbconvert_exporter": "python",
   "pygments_lexer": "ipython3",
   "version": "3.8.2"
  }
 },
 "nbformat": 4,
 "nbformat_minor": 4
}
